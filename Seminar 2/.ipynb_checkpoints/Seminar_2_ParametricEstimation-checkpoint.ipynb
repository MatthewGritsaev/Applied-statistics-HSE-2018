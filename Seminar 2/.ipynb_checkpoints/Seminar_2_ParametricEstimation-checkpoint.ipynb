{
 "cells": [
  {
   "cell_type": "code",
   "execution_count": 17,
   "metadata": {},
   "outputs": [],
   "source": [
    "import numpy as np\n",
    "import pandas as pd\n",
    "from scipy import stats\n",
    "from scipy.stats import norm\n",
    "import seaborn as sns\n",
    "import matplotlib.pyplot as plt"
   ]
  },
  {
   "cell_type": "markdown",
   "metadata": {},
   "source": [
    "# Задачи на оценку параметров:"
   ]
  },
  {
   "cell_type": "markdown",
   "metadata": {},
   "source": [
    "1. Постановка задачи параметрического оценивания\n",
    "2. Дельта-метод\n",
    "3. Информация Фишера\n",
    "4. KL\n",
    "5. JS\n",
    "6. Метрика Вассерштайн\n",
    "7. Оптимальный Транспорт\n",
    "\n"
   ]
  },
  {
   "cell_type": "markdown",
   "metadata": {},
   "source": [
    "# 1. Параметрическое оцениваение (на примере MLE)"
   ]
  },
  {
   "cell_type": "markdown",
   "metadata": {},
   "source": [
    "##### 1. Как оцнивать Probability Density function (PDF) для распределений например \n",
    "https://medium.com/@rrfd/what-is-maximum-likelihood-estimation-examples-in-python-791153818030"
   ]
  },
  {
   "cell_type": "markdown",
   "metadata": {},
   "source": [
    "Нам нужно оценить параметр из модели. Как правило, мы выбираем модель - скажем, линейную регрессию - и используем наблюдаемые данные **X** для создания параметров модели **θ**.\n",
    "\n",
    "Например, если мы отбираем случайную переменную **X**, которую, как предполагается, обычно распределяем на некоторые средние **mu** и **sd**. Наша цель - найти оценки **mu** и **sd** из нашего сэмпла, которые точно представляют истинный **X**, а не только образцы, которые мы вытащили.\n",
    "\n",
    "Рассмотрим, когда вы делаете линейную регрессию, и ваша модель оценивает коэффициенты для **X** на зависимой переменной **y**. Как мы можем максимизировать вероятность (вероятность) нашей оценки **θ** от истинного **X**? "
   ]
  },
  {
   "cell_type": "markdown",
   "metadata": {},
   "source": [
    "Функция плотности вероятности нормального распределения:\n",
    "![norm](https://cdn-images-1.medium.com/max/1200/1*P78bMZPhhKnzLkwcNgeJ0g.png)"
   ]
  },
  {
   "cell_type": "markdown",
   "metadata": {},
   "source": [
    "Это уравнение говорит нам о вероятности нашей выборки х из нашей случайной величины X, когда истинными параметрами распределения являются μ и σ.\n",
    "\n",
    "Предположим, что наш образец равен 3, какова вероятность того, что это произойдет из распределения μ = 3 и σ = 1?"
   ]
  },
  {
   "cell_type": "code",
   "execution_count": 8,
   "metadata": {},
   "outputs": [],
   "source": [
    "norm.pdf?"
   ]
  },
  {
   "cell_type": "code",
   "execution_count": 9,
   "metadata": {},
   "outputs": [
    {
     "data": {
      "text/plain": [
       "0.3989422804014327"
      ]
     },
     "execution_count": 9,
     "metadata": {},
     "output_type": "execute_result"
    }
   ],
   "source": [
    "norm.pdf(3,3,1)"
   ]
  },
  {
   "cell_type": "code",
   "execution_count": 10,
   "metadata": {},
   "outputs": [
    {
     "data": {
      "text/plain": [
       "0.02699548325659403"
      ]
     },
     "execution_count": 10,
     "metadata": {},
     "output_type": "execute_result"
    }
   ],
   "source": [
    "# проверить распределение с μ = 7 и σ = 2\n",
    "norm.pdf(3,7,2)"
   ]
  },
  {
   "cell_type": "markdown",
   "metadata": {},
   "source": [
    "Предположим, мы получаем семплы из X, которые, как мы знаем, происходят из некоторого нормального распределения, и все они взаимно независимы друг от друга. Если это так, то общая вероятность наблюдения всех данных является результатом получения каждого семпла по отдельности.\n",
    "\n",
    "Вероятность выбора 2 и 6 из распределения с μ = 4 и σ = 1:"
   ]
  },
  {
   "cell_type": "code",
   "execution_count": 11,
   "metadata": {},
   "outputs": [
    {
     "data": {
      "text/plain": [
       "0.0029150244650281948"
      ]
     },
     "execution_count": 11,
     "metadata": {},
     "output_type": "execute_result"
    }
   ],
   "source": [
    "norm.pdf(2, 4, 1)*norm.pdf(6, 4, 1)"
   ]
  },
  {
   "cell_type": "code",
   "execution_count": 33,
   "metadata": {},
   "outputs": [
    {
     "data": {
      "text/plain": [
       "<matplotlib.legend.Legend at 0x26545250f98>"
      ]
     },
     "execution_count": 33,
     "metadata": {},
     "output_type": "execute_result"
    },
    {
     "data": {
      "image/png": "[encoded data removed]",
      "text/plain": [
       "<matplotlib.figure.Figure at 0x265453c07b8>"
      ]
     },
     "metadata": {},
     "output_type": "display_data"
    }
   ],
   "source": [
    "sample = [4, 5, 7, 8, 8, 9, 10, 5, 2, 3, 5, 4, 8, 9]\n",
    "x=np.linspace(0,20,100)\n",
    "y=norm.pdf(x, 5, 3)\n",
    "y1=norm.pdf(x, 7, 2)\n",
    "\n",
    "sns.set()\n",
    "plt.plot(x,y)\n",
    "plt.plot(x,y1)\n",
    "plt.scatter(sample,np.zeros(len(sample))+0.1)\n",
    "plt.legend(['norm.pdf(x, 5, 3)','norm.pdf(x, 7, 2)'],loc='upper right')"
   ]
  },
  {
   "cell_type": "markdown",
   "metadata": {},
   "source": [
    "Итак, мы хотим найти *p(4, 5, 7, 8, 8, 9, 10, 5, 2, 3, 5, 4, 8, 9; μ, σ)*. Вероятность этих выборок исходит из нормального распределения с **μ** и **σ**. Но мы не знаем **μ** и **σ**, поэтому нам нужно их оценить.\n",
    "\n",
    "Мы делаем это с помощью оценки максимального правдоподобия (MLE), чтобы указать распределения неизвестных параметров, чтобы вытащить фактические значения параметров.\n",
    "\n",
    "Наше **θ** является параметром, который оценивает **x** = [4, 5, 7, 8, 8, 9, 10, 5, 2, 3, 5, 4, 8, 9], который, как мы предполагаем, исходит из нормального распределения PDF, показанного ниже.\n",
    "\n",
    "Мы хотим максимизировать вероятность того, что наш параметр **θ** относится к нормальному распределению. Мы можем назвать это наше уравнение правдоподобия, и когда мы взяв логарифм уравнения уравнения PDF,  мы можем называть его логарифмической вероятностью:"
   ]
  },
  {
   "cell_type": "markdown",
   "metadata": {},
   "source": [
    "Log Likelihood Equation:\n",
    "    \n",
    "![LLE](https://cdn-images-1.medium.com/max/1200/1*H4hW2Haijx9lMdIQJWP32w.png)"
   ]
  },
  {
   "cell_type": "code",
   "execution_count": 35,
   "metadata": {},
   "outputs": [
    {
     "name": "stdout",
     "output_type": "stream",
     "text": [
      "The LL of of x for mu = 5 and sd = 3 is: -33.9679\n",
      "The LL of of x for mu = 7 and sd = 3 is: -33.3013\n"
     ]
    }
   ],
   "source": [
    "# Compare the likelihood of the random samples to the two \n",
    "# distributions\n",
    "def compare_data_to_dist(x, mu_1=5, mu_2=7, sd_1=3, sd_2=3):\n",
    "    ll_1 = 0\n",
    "    ll_2 = 0\n",
    "    for i in x:\n",
    "        ll_1 += np.log(norm.pdf(i, mu_1, sd_1))\n",
    "        ll_2 += np.log(norm.pdf(i, mu_2, sd_2))\n",
    "    \n",
    "    print (\"The LL of of x for mu = %d and sd = %d is: %.4f\" % (mu_1, sd_1, ll_1))\n",
    "    print (\"The LL of of x for mu = %d and sd = %d is: %.4f\" % (mu_2, sd_2, ll_2))\n",
    "compare_data_to_dist(sample)"
   ]
  },
  {
   "cell_type": "markdown",
   "metadata": {},
   "source": [
    "Где [-33.3013] - лучшая минимизация. Мы хотим построить логарифмическую вероятность для возможных значений **μ** и **σ**. Ниже мы зафиксировали **σ** при 3,0, а наше предположение для **μ - {μ ∈ R | x ≥ 2 и x ≤ 10}**, и будет построена по оси **x**.\n",
    "\n",
    "Мы можем видеть, что максимум нашей функции правдоподобия встречается вокруг значения [6.2]. Наша цель - найти значения **μ** и **σ**, которые максимизируют функцию правдоподобия."
   ]
  },
  {
   "cell_type": "code",
   "execution_count": 57,
   "metadata": {},
   "outputs": [
    {
     "data": {
      "text/plain": [
       "Text(0,0.5,'Log Likelihood')"
      ]
     },
     "execution_count": 57,
     "metadata": {},
     "output_type": "execute_result"
    },
    {
     "data": {
      "image/png": "[encoded data removed]",
      "text/plain": [
       "<matplotlib.figure.Figure at 0x26546fe0eb8>"
      ]
     },
     "metadata": {},
     "output_type": "display_data"
    }
   ],
   "source": [
    "mu=np.linspace(0,20,100)\n",
    "y=norm.pdf(7,mu,3)# сд зафиксировано и равно 3\n",
    "plt.plot(mu,np.log(y))\n",
    "plt.legend(['np.log(norm.pdf(7,mu,3))'],loc='upper right')\n",
    "plt.axvline(x=7.5,linewidth=0.5, color='r')\n",
    "plt.title(\"Maximum Likelihood Function\")\n",
    "plt.xlabel(\"Mean Estimate\")\n",
    "plt.ylabel(\"Log Likelihood\")"
   ]
  },
  {
   "cell_type": "markdown",
   "metadata": {},
   "source": [
    "Теперь мы хотим подставить **θ** в **μ** и **σ** в нашу функции правдоподобия. Назовем их **θ_mu** и **θ_sigma**.\n",
    "\n",
    "Чтобы максимизировать наше уравнение по каждому из наших параметров, нам нужно взять производную и приравнять к 0.\n",
    "\n",
    "Сначала давайте оценим **θ_mu** из нашего уравнения правдоподобия, приведенного выше:"
   ]
  },
  {
   "cell_type": "markdown",
   "metadata": {},
   "source": [
    "![MLE](https://cdn-images-1.medium.com/max/1200/1*LPWYnLEQ6oCfPXFuGT02oA.png)\n",
    "Производная нашей функции Логарифмического правдоподобия по **θ_mu**."
   ]
  },
  {
   "cell_type": "markdown",
   "metadata": {},
   "source": [
    "Видим, что оценка максимального правдоподобия для **θ_mu** является суммой наших наблюдений, деленная на количество наблюдений. И давайте сделаем то же самое для **θ_sigma**:"
   ]
  },
  {
   "cell_type": "markdown",
   "metadata": {},
   "source": [
    "![MLE](https://cdn-images-1.medium.com/max/1200/1*awqGrmSMxvd_z829mp0LRQ.png)\n",
    "\n",
    "Производная нашей функции Логарифмического правдоподобия по **θ_sigma**."
   ]
  },
  {
   "cell_type": "code",
   "execution_count": null,
   "metadata": {},
   "outputs": [],
   "source": [
    "# Plot the Maximum Likelihood Functions for different values of mu \n",
    "# and sigma\n",
    "def plot_ll(x):\n",
    "    plt.figure(figsize=(5,8))\n",
    "    plt.title(\"Maximim Likelihood Functions\")\n",
    "    plt.xlabel(\"Mean Estimate\")\n",
    "    plt.ylabel(\"Log Likelihood\")\n",
    "    plt.ylim(-40, -30)\n",
    "    plt.xlim(0, 12)\n",
    "    mu_set = np.linspace(0, 16, 1000)\n",
    "    sd_set = [.5, 1, 1.5, 2.5, 3, 3.5]\n",
    "    max_val = max_val_location = None\n",
    "for i in sd_set:\n",
    "        ll_array = []\n",
    "        \n",
    "        for j in mu_set:\n",
    "            temp_mm = 0\n",
    "            \n",
    "            for k in x:\n",
    "                temp_mm += np.log(norm.pdf(k, j, i)) # The LL function\n",
    "            ll_array.append(temp_mm)\n",
    "        \n",
    "            if (max_val is None):\n",
    "                max_val = max(ll_array)\n",
    "elif max(ll_array) > max_val:\n",
    "                max_val = max(ll_array)\n",
    "                max_val_location = j\n",
    "        \n",
    "        # Plot the results\n",
    "        plt.plot(mu_set, ll_array, label=\"sd: %.1f\" % i)\n",
    "        \n",
    "        print \"The max LL for sd %.2f is %.2f\" % (i, max(ll_array))    \n",
    "    plt.axvline(x=max_val_location, color='black', ls='-.')\n",
    "    plt.legend(loc='lower left')\n",
    "plot_ll(x);"
   ]
  },
  {
   "cell_type": "code",
   "execution_count": null,
   "metadata": {},
   "outputs": [],
   "source": []
  },
  {
   "cell_type": "code",
   "execution_count": null,
   "metadata": {},
   "outputs": [],
   "source": []
  },
  {
   "cell_type": "code",
   "execution_count": null,
   "metadata": {},
   "outputs": [],
   "source": []
  },
  {
   "cell_type": "code",
   "execution_count": null,
   "metadata": {},
   "outputs": [],
   "source": []
  },
  {
   "cell_type": "code",
   "execution_count": null,
   "metadata": {},
   "outputs": [],
   "source": []
  },
  {
   "cell_type": "markdown",
   "metadata": {},
   "source": [
    "# 2. Дельта- метод"
   ]
  },
  {
   "cell_type": "markdown",
   "metadata": {},
   "source": [
    "##### 1. Источник Casella berger стр 523, пример 10.17 ( заодно там и бутстреп)\n",
    "https://fsalamri.files.wordpress.com/2015/02/casella_berger_statistical_inference1.pdf"
   ]
  },
  {
   "cell_type": "markdown",
   "metadata": {},
   "source": [
    "##### 2. Отсюда задача про рыбу  B3\n",
    "http://www.phidot.org/software/mark/docs/book/pdf/app_2.pdf"
   ]
  },
  {
   "cell_type": "markdown",
   "metadata": {},
   "source": [
    "##### 3. Просто как работает дельта метод в statsmodels отсюда\n",
    "https://stats.idre.ucla.edu/r/faq/how-can-i-estimate-the-standard-error-of-transformed-regression-parameters-in-r-using-the-delta-method/3. "
   ]
  },
  {
   "cell_type": "markdown",
   "metadata": {},
   "source": [
    "# 3. KL и JL дивергенция"
   ]
  },
  {
   "cell_type": "markdown",
   "metadata": {},
   "source": [
    "### 1. KL дивергенция:\n",
    "\n",
    "$KLD(P||Q)=\\mathop{\\mathbb{E}}x∼P[\\log(P(x))Q(x)]=\\mathop{\\mathbb{E}}x∼P[\\log(P(x))−\\log(Q(x))]=\t\\int\\limits{x}P(x)(logP(x)−logQ(x))=\\sum P(x) \\log( \\frac{P(x)}{Q(x)}$\n",
    "\n",
    "### 2. JS дивергенция:\n",
    "\n",
    "$JSD (P||Q) = \\frac{1}{2}KL(P||M) +\\frac{1}{2}KL(Q||M) where M= \\frac{1}{2}(P+Q)$"
   ]
  },
  {
   "cell_type": "markdown",
   "metadata": {},
   "source": [
    "##### Пример вот отсюда https://qiita.com/Rowing0914/items/2f3fcb114ae671c7c394"
   ]
  },
  {
   "cell_type": "code",
   "execution_count": 18,
   "metadata": {},
   "outputs": [
    {
     "name": "stdout",
     "output_type": "stream",
     "text": [
      "my_KL:  0.00 scipy_KL:  0.00\n",
      "my_KL:  0.12 scipy_KL:  0.12\n",
      "my_KL:  0.50 scipy_KL:  0.50\n",
      "my_KL:  1.12 scipy_KL:  1.12\n",
      "my_KL:  2.00 scipy_KL:  2.00\n",
      "my_KL:  3.12 scipy_KL:  3.12\n",
      "my_KL:  4.50 scipy_KL:  4.50\n",
      "my_KL:  6.12 scipy_KL:  6.12\n",
      "my_KL:  8.00 scipy_KL:  8.00\n"
     ]
    },
    {
     "data": {
      "image/png": "[encoded data removed]",
      "text/plain": [
       "<matplotlib.figure.Figure at 0x1d4cc61d5f8>"
      ]
     },
     "metadata": {},
     "output_type": "display_data"
    }
   ],
   "source": [
    "import matplotlib.pyplot as plt\n",
    "import numpy as np\n",
    "from scipy.stats import norm, entropy\n",
    "\n",
    "def entropy_multi(p, q):\n",
    "  return np.sum(p * np.log(p / q), axis=0)\n",
    "\n",
    "def entropy_single(p):\n",
    "  return np.sum(p * np.log(p), axis=0)\n",
    "\n",
    "def KLD(pk, qk):\n",
    "  # arraynise\n",
    "  pk = np.asarray(pk)\n",
    "  # normalise\n",
    "  pk = 1.0*pk / np.sum(pk, axis=0)\n",
    "  # check to decide if we apply single or multi entorpy\n",
    "  if qk is None:\n",
    "      return np.sum(entropy_single(pk), axis=0)\n",
    "  else:\n",
    "      # arraynise\n",
    "      qk = np.asarray(qk)\n",
    "      if len(qk) != len(pk):\n",
    "          raise ValueError(\"qk and pk must have same length.\")\n",
    "      qk = 1.0*qk / np.sum(qk, axis=0)\n",
    "      return np.sum(entropy_multi(pk, qk), axis=0)\n",
    "\n",
    "# data prep\n",
    "x = np.linspace(-10.0, 10.0, 1000)\n",
    "\n",
    "# graph setting\n",
    "plt.figure(figsize=(12,8))\n",
    "\n",
    "# gradually shift the distribution\n",
    "for i in np.arange(3):\n",
    "    for j in np.arange(3):\n",
    "        # index to shift\n",
    "        index = i*3 + j\n",
    "        # probabilistic distribution function\n",
    "        p = norm.pdf(x, loc=0, scale=1)\n",
    "        q = norm.pdf(x, loc=index*0.5, scale=1)\n",
    "        # mean of them\n",
    "        m = (p+q)/2\n",
    "        # scipy entropy\n",
    "        kl = entropy(p, q)\n",
    "        kl_mine = KLD(p,q)\n",
    "        # checker\n",
    "        print(\"my_KL: \", \"{0:.2f}\".format(kl_mine), \"scipy_KL: \", \"{0:.2f}\".format(kl))\n",
    "        # prep for js divergence\n",
    "        kl_pm = KLD(p, m)\n",
    "        kl_qm = KLD(q, m)\n",
    "        js = (kl_pm + kl_qm)/2\n",
    "        plt.subplot(3,3,i*3+j+1)\n",
    "        plt.fill_between(x, m, facecolor=\"y\", alpha=0.2)\n",
    "        plt.fill_between(x, p, facecolor=\"b\", alpha=0.2)\n",
    "        plt.fill_between(x, q, facecolor=\"r\", alpha=0.2)\n",
    "        plt.xlim(-5, 7)\n",
    "        plt.ylim(0,0.45)\n",
    "        plt.title(\"KLD:{:>.3f}\".format(kl) + \",   JSD:{:>.3f}\".format(js))\n",
    "        plt.tick_params(labelbottom=\"off\")\n",
    "        plt.tick_params(labelleft=\"off\")\n",
    "\n",
    "plt.subplots_adjust(wspace=0.1, hspace=0.5)\n",
    "plt.show()"
   ]
  },
  {
   "cell_type": "markdown",
   "metadata": {},
   "source": [
    "# Информация Фишера"
   ]
  },
  {
   "cell_type": "markdown",
   "metadata": {},
   "source": [
    "##### 1. Пример вот отсюда http://wittman.physics.ucdavis.edu/Fisher-matrix-guide.pdf"
   ]
  },
  {
   "cell_type": "code",
   "execution_count": 37,
   "metadata": {},
   "outputs": [
    {
     "name": "stdout",
     "output_type": "stream",
     "text": [
      "[[ 0.00375 -0.00125]\n",
      " [-0.00125  0.00375]]\n"
     ]
    }
   ],
   "source": [
    "xvals = (-1,1)# the list of x positions at which you will measure \n",
    "sigmavals = (0.1,0.1) # the list of uncertainties of those measurements\n",
    "xvals = (-1,1,1)\n",
    "sigmavals = (0.1,0.1,0.1)\n",
    "npar = 2\n",
    "\n",
    "F = np.zeros([npar,npar])\n",
    "for x,sigma in zip(xvals,sigmavals):\n",
    "    for i in range(npar):\n",
    "        if i==0:\n",
    "            dfdpi = x\n",
    "        else:\n",
    "            dfdpi = 1\n",
    "        for j in range(npar):\n",
    "            if j==0:\n",
    "                dfdpj = x\n",
    "            else:\n",
    "                dfdpj = 1\n",
    "                \n",
    "            F[i,j] += sigma**-2*dfdpi*dfdpj\n",
    "        \n",
    "print (np.mat(F).I) # invert the matrix"
   ]
  },
  {
   "cell_type": "markdown",
   "metadata": {},
   "source": [
    "##### Статья по теме https://www.ncbi.nlm.nih.gov/pmc/articles/PMC5180148/"
   ]
  },
  {
   "cell_type": "markdown",
   "metadata": {},
   "source": [
    "##### 2. Пример вот отсюда - тут какой то реальный кейс и много кода который можно адаптировать по астрологии\n",
    "http://www.stsci.edu/~dcoe/Fisher/"
   ]
  },
  {
   "cell_type": "markdown",
   "metadata": {},
   "source": [
    "##### 3. Пример вот отсюда, тут просто посчитать матрицу информации Фишера \n",
    "library Cosmic Fisher https://cosmicfish.github.io/documentation/CosmicFishPyLib/example.html#://"
   ]
  },
  {
   "cell_type": "markdown",
   "metadata": {},
   "source": [
    "# 5. Метрика Вассерштейна"
   ]
  },
  {
   "cell_type": "markdown",
   "metadata": {},
   "source": [
    "##### 1. Громов-Вассерштейн это тоже самое? Если да, то вот\n",
    "\n",
    "https://pot.readthedocs.io/en/stable/auto_examples/plot_gromov.html\n",
    "    \n",
    "https://docs.scipy.org/doc/scipy/reference/generated/scipy.stats.wasserstein_distance.html"
   ]
  },
  {
   "cell_type": "markdown",
   "metadata": {},
   "source": [
    "# 6. Optimal transport"
   ]
  },
  {
   "cell_type": "markdown",
   "metadata": {},
   "source": [
    "##### 1. Вот в этой библиотечке пройтись по парочке туториалов для 1D и 2D\n",
    "https://pot.readthedocs.io/en/stable/"
   ]
  },
  {
   "cell_type": "markdown",
   "metadata": {},
   "source": [
    "# * Параметрическая регрессия  (просто так оставила, вдруг пригодится)\n",
    "##### Источник: https://pythonhosted.org/PyQt-Fit/Param_tut.html"
   ]
  },
  {
   "cell_type": "markdown",
   "metadata": {},
   "source": [
    "![Не точно](https://memepedia.ru/wp-content/uploads/2017/08/%D0%BD%D0%BE-%D1%8D%D1%82%D0%BE-%D0%BD%D0%B5-%D1%82%D0%BE%D1%87%D0%BD%D0%BE-%D0%B1%D0%B8%D0%B3-%D1%80%D0%B0%D1%88%D0%BD-%D0%B1%D0%BE%D1%81%D1%81-1.jpg)"
   ]
  },
  {
   "cell_type": "code",
   "execution_count": 3,
   "metadata": {},
   "outputs": [
    {
     "data": {
      "text/plain": [
       "Text(0,0.5,'Y')"
      ]
     },
     "execution_count": 3,
     "metadata": {},
     "output_type": "execute_result"
    },
    {
     "data": {
      "image/png": "[encoded data removed]",
      "text/plain": [
       "<matplotlib.figure.Figure at 0x1d4cc69eda0>"
      ]
     },
     "metadata": {},
     "output_type": "display_data"
    }
   ],
   "source": [
    "import numpy as np\n",
    "from matplotlib import pylab as plt\n",
    "x = np.arange(0,3,0.01)\n",
    "y = 2*x + 4*x**2 + 3*np.random.randn(*x.shape)\n",
    "plt.plot(x,y,'+',label='data')\n",
    "plt.legend(loc=0)\n",
    "plt.xlabel('X'); plt.ylabel('Y')"
   ]
  },
  {
   "cell_type": "markdown",
   "metadata": {},
   "source": [
    "# Monte Carlo Estimation\n",
    "##### Code sourse: http://www-personal.umd.umich.edu/~wiclarks/AstroLab/HOWTOs/NotebookStuff/MonteCarloHOWTO.html"
   ]
  }
 ],
 "metadata": {
  "kernelspec": {
   "display_name": "Python 3",
   "language": "python",
   "name": "python3"
  },
  "language_info": {
   "codemirror_mode": {
    "name": "ipython",
    "version": 3
   },
   "file_extension": ".py",
   "mimetype": "text/x-python",
   "name": "python",
   "nbconvert_exporter": "python",
   "pygments_lexer": "ipython3",
   "version": "3.6.4"
  }
 },
 "nbformat": 4,
 "nbformat_minor": 2
}
